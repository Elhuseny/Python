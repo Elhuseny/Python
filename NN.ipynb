{
  "nbformat": 4,
  "nbformat_minor": 0,
  "metadata": {
    "colab": {
      "provenance": []
    },
    "kernelspec": {
      "name": "python3",
      "display_name": "Python 3"
    },
    "language_info": {
      "name": "python"
    }
  },
  "cells": [
    {
      "cell_type": "markdown",
      "source": [
        "#Spreadsheet Dataset"
      ],
      "metadata": {
        "id": "Xwuae-2_RtCP"
      }
    },
    {
      "cell_type": "markdown",
      "source": [
        "## Iris Dataset"
      ],
      "metadata": {
        "id": "abBEIcoqRo3l"
      }
    },
    {
      "cell_type": "code",
      "execution_count": null,
      "metadata": {
        "colab": {
          "base_uri": "https://localhost:8080/"
        },
        "id": "uTkjUv4_5umh",
        "outputId": "6beb58b5-6ba3-492f-ea18-81a0d997ab23"
      },
      "outputs": [
        {
          "output_type": "stream",
          "name": "stderr",
          "text": [
            "/usr/local/lib/python3.10/dist-packages/sklearn/preprocessing/_encoders.py:868: FutureWarning: `sparse` was renamed to `sparse_output` in version 1.2 and will be removed in 1.4. `sparse_output` is ignored unless you leave `sparse` to its default value.\n",
            "  warnings.warn(\n"
          ]
        },
        {
          "output_type": "stream",
          "name": "stdout",
          "text": [
            "Epoch 1/100\n",
            "24/24 [==============================] - 2s 22ms/step - loss: 1.4861 - accuracy: 0.0000e+00 - val_loss: 1.2287 - val_accuracy: 0.0333\n",
            "Epoch 2/100\n",
            "24/24 [==============================] - 0s 9ms/step - loss: 1.1715 - accuracy: 0.0750 - val_loss: 1.1582 - val_accuracy: 0.3000\n",
            "Epoch 3/100\n",
            "24/24 [==============================] - 0s 7ms/step - loss: 1.1409 - accuracy: 0.3417 - val_loss: 1.1414 - val_accuracy: 0.3000\n",
            "Epoch 4/100\n",
            "24/24 [==============================] - 0s 11ms/step - loss: 1.1183 - accuracy: 0.3250 - val_loss: 1.1180 - val_accuracy: 0.2667\n",
            "Epoch 5/100\n",
            "24/24 [==============================] - 0s 7ms/step - loss: 1.1011 - accuracy: 0.3000 - val_loss: 1.0994 - val_accuracy: 0.1000\n",
            "Epoch 6/100\n",
            "24/24 [==============================] - 0s 13ms/step - loss: 1.0920 - accuracy: 0.1250 - val_loss: 1.0845 - val_accuracy: 0.1000\n",
            "Epoch 7/100\n",
            "24/24 [==============================] - 0s 7ms/step - loss: 1.0779 - accuracy: 0.2833 - val_loss: 1.0805 - val_accuracy: 0.3000\n",
            "Epoch 8/100\n",
            "24/24 [==============================] - 0s 13ms/step - loss: 1.0629 - accuracy: 0.2917 - val_loss: 1.0541 - val_accuracy: 0.0667\n",
            "Epoch 9/100\n",
            "24/24 [==============================] - 0s 10ms/step - loss: 1.0489 - accuracy: 0.1417 - val_loss: 1.0408 - val_accuracy: 0.1000\n",
            "Epoch 10/100\n",
            "24/24 [==============================] - 0s 10ms/step - loss: 1.0304 - accuracy: 0.2000 - val_loss: 1.0317 - val_accuracy: 0.4000\n",
            "Epoch 11/100\n",
            "24/24 [==============================] - 0s 7ms/step - loss: 1.0141 - accuracy: 0.5333 - val_loss: 1.0113 - val_accuracy: 0.6333\n",
            "Epoch 12/100\n",
            "24/24 [==============================] - 0s 10ms/step - loss: 0.9934 - accuracy: 0.4583 - val_loss: 0.9858 - val_accuracy: 0.6000\n",
            "Epoch 13/100\n",
            "24/24 [==============================] - 0s 6ms/step - loss: 0.9787 - accuracy: 0.4417 - val_loss: 0.9615 - val_accuracy: 0.5000\n",
            "Epoch 14/100\n",
            "24/24 [==============================] - 0s 9ms/step - loss: 0.9511 - accuracy: 0.6583 - val_loss: 0.9452 - val_accuracy: 0.6333\n",
            "Epoch 15/100\n",
            "24/24 [==============================] - 0s 11ms/step - loss: 0.9231 - accuracy: 0.6167 - val_loss: 0.9131 - val_accuracy: 0.6000\n",
            "Epoch 16/100\n",
            "24/24 [==============================] - 0s 14ms/step - loss: 0.8984 - accuracy: 0.6583 - val_loss: 0.8865 - val_accuracy: 0.6333\n",
            "Epoch 17/100\n",
            "24/24 [==============================] - 0s 8ms/step - loss: 0.8678 - accuracy: 0.5083 - val_loss: 0.8462 - val_accuracy: 0.6333\n",
            "Epoch 18/100\n",
            "24/24 [==============================] - 0s 12ms/step - loss: 0.8384 - accuracy: 0.6750 - val_loss: 0.8090 - val_accuracy: 0.6333\n",
            "Epoch 19/100\n",
            "24/24 [==============================] - 0s 14ms/step - loss: 0.7946 - accuracy: 0.5250 - val_loss: 0.7556 - val_accuracy: 0.4667\n",
            "Epoch 20/100\n",
            "24/24 [==============================] - 0s 12ms/step - loss: 0.7496 - accuracy: 0.5750 - val_loss: 0.7130 - val_accuracy: 0.6667\n",
            "Epoch 21/100\n",
            "24/24 [==============================] - 0s 15ms/step - loss: 0.6945 - accuracy: 0.7250 - val_loss: 0.6701 - val_accuracy: 0.7000\n",
            "Epoch 22/100\n",
            "24/24 [==============================] - 0s 9ms/step - loss: 0.6447 - accuracy: 0.7583 - val_loss: 0.6304 - val_accuracy: 0.7000\n",
            "Epoch 23/100\n",
            "24/24 [==============================] - 0s 6ms/step - loss: 0.6111 - accuracy: 0.7417 - val_loss: 0.5954 - val_accuracy: 0.8000\n",
            "Epoch 24/100\n",
            "24/24 [==============================] - 0s 5ms/step - loss: 0.5846 - accuracy: 0.7583 - val_loss: 0.5719 - val_accuracy: 0.8000\n",
            "Epoch 25/100\n",
            "24/24 [==============================] - 0s 9ms/step - loss: 0.5605 - accuracy: 0.7833 - val_loss: 0.5516 - val_accuracy: 0.8000\n",
            "Epoch 26/100\n",
            "24/24 [==============================] - 0s 7ms/step - loss: 0.5413 - accuracy: 0.7667 - val_loss: 0.5343 - val_accuracy: 0.8000\n",
            "Epoch 27/100\n",
            "24/24 [==============================] - 0s 14ms/step - loss: 0.5201 - accuracy: 0.8000 - val_loss: 0.5117 - val_accuracy: 0.8000\n",
            "Epoch 28/100\n",
            "24/24 [==============================] - 0s 15ms/step - loss: 0.5044 - accuracy: 0.8417 - val_loss: 0.5005 - val_accuracy: 0.8000\n",
            "Epoch 29/100\n",
            "24/24 [==============================] - 0s 14ms/step - loss: 0.4896 - accuracy: 0.8333 - val_loss: 0.4893 - val_accuracy: 0.8000\n",
            "Epoch 30/100\n",
            "24/24 [==============================] - 0s 13ms/step - loss: 0.4774 - accuracy: 0.8417 - val_loss: 0.4748 - val_accuracy: 0.8333\n",
            "Epoch 31/100\n",
            "24/24 [==============================] - 0s 19ms/step - loss: 0.4657 - accuracy: 0.8917 - val_loss: 0.4682 - val_accuracy: 0.8000\n",
            "Epoch 32/100\n",
            "24/24 [==============================] - 0s 12ms/step - loss: 0.4543 - accuracy: 0.9083 - val_loss: 0.4540 - val_accuracy: 0.8333\n",
            "Epoch 33/100\n",
            "24/24 [==============================] - 0s 11ms/step - loss: 0.4454 - accuracy: 0.8917 - val_loss: 0.4449 - val_accuracy: 0.8333\n",
            "Epoch 34/100\n",
            "24/24 [==============================] - 0s 12ms/step - loss: 0.4340 - accuracy: 0.9167 - val_loss: 0.4367 - val_accuracy: 0.8333\n",
            "Epoch 35/100\n",
            "24/24 [==============================] - 0s 12ms/step - loss: 0.4285 - accuracy: 0.8833 - val_loss: 0.4259 - val_accuracy: 0.8667\n",
            "Epoch 36/100\n",
            "24/24 [==============================] - 0s 15ms/step - loss: 0.4146 - accuracy: 0.9083 - val_loss: 0.4178 - val_accuracy: 0.8333\n",
            "Epoch 37/100\n",
            "24/24 [==============================] - 0s 15ms/step - loss: 0.4106 - accuracy: 0.8750 - val_loss: 0.3964 - val_accuracy: 0.9000\n",
            "Epoch 38/100\n",
            "24/24 [==============================] - 0s 13ms/step - loss: 0.3961 - accuracy: 0.8917 - val_loss: 0.3899 - val_accuracy: 0.9000\n",
            "Epoch 39/100\n",
            "24/24 [==============================] - 0s 14ms/step - loss: 0.3697 - accuracy: 0.9417 - val_loss: 0.3714 - val_accuracy: 0.8667\n",
            "Epoch 40/100\n",
            "24/24 [==============================] - 0s 16ms/step - loss: 0.3522 - accuracy: 0.9417 - val_loss: 0.3588 - val_accuracy: 0.9000\n",
            "Epoch 41/100\n",
            "24/24 [==============================] - 0s 11ms/step - loss: 0.3427 - accuracy: 0.9333 - val_loss: 0.3472 - val_accuracy: 0.9000\n",
            "Epoch 42/100\n",
            "24/24 [==============================] - 0s 15ms/step - loss: 0.3321 - accuracy: 0.9500 - val_loss: 0.3302 - val_accuracy: 0.9333\n",
            "Epoch 43/100\n",
            "24/24 [==============================] - 0s 15ms/step - loss: 0.3212 - accuracy: 0.9250 - val_loss: 0.3195 - val_accuracy: 0.9000\n",
            "Epoch 44/100\n",
            "24/24 [==============================] - 0s 16ms/step - loss: 0.3011 - accuracy: 0.9417 - val_loss: 0.3145 - val_accuracy: 0.9000\n",
            "Epoch 45/100\n",
            "24/24 [==============================] - 0s 14ms/step - loss: 0.2974 - accuracy: 0.9333 - val_loss: 0.2991 - val_accuracy: 0.9333\n",
            "Epoch 46/100\n",
            "24/24 [==============================] - 0s 11ms/step - loss: 0.2808 - accuracy: 0.9417 - val_loss: 0.2922 - val_accuracy: 0.9667\n",
            "Epoch 47/100\n",
            "24/24 [==============================] - 0s 13ms/step - loss: 0.2703 - accuracy: 0.9583 - val_loss: 0.2804 - val_accuracy: 0.9667\n",
            "Epoch 48/100\n",
            "24/24 [==============================] - 0s 16ms/step - loss: 0.2644 - accuracy: 0.9500 - val_loss: 0.2704 - val_accuracy: 0.9333\n",
            "Epoch 49/100\n",
            "24/24 [==============================] - 0s 14ms/step - loss: 0.2647 - accuracy: 0.9417 - val_loss: 0.2627 - val_accuracy: 0.9333\n",
            "Epoch 50/100\n",
            "24/24 [==============================] - 0s 14ms/step - loss: 0.2445 - accuracy: 0.9417 - val_loss: 0.2601 - val_accuracy: 0.9667\n",
            "Epoch 51/100\n",
            "24/24 [==============================] - 0s 8ms/step - loss: 0.2405 - accuracy: 0.9500 - val_loss: 0.2524 - val_accuracy: 0.9667\n",
            "Epoch 52/100\n",
            "24/24 [==============================] - 0s 11ms/step - loss: 0.2302 - accuracy: 0.9583 - val_loss: 0.2403 - val_accuracy: 0.9667\n",
            "Epoch 53/100\n",
            "24/24 [==============================] - 0s 18ms/step - loss: 0.2228 - accuracy: 0.9500 - val_loss: 0.2383 - val_accuracy: 0.9667\n",
            "Epoch 54/100\n",
            "24/24 [==============================] - 0s 13ms/step - loss: 0.2183 - accuracy: 0.9500 - val_loss: 0.2307 - val_accuracy: 0.9667\n",
            "Epoch 55/100\n",
            "24/24 [==============================] - 0s 12ms/step - loss: 0.2102 - accuracy: 0.9583 - val_loss: 0.2248 - val_accuracy: 0.9667\n",
            "Epoch 56/100\n",
            "24/24 [==============================] - 0s 16ms/step - loss: 0.2057 - accuracy: 0.9583 - val_loss: 0.2173 - val_accuracy: 0.9667\n",
            "Epoch 57/100\n",
            "24/24 [==============================] - 0s 12ms/step - loss: 0.1995 - accuracy: 0.9583 - val_loss: 0.2107 - val_accuracy: 0.9667\n",
            "Epoch 58/100\n",
            "24/24 [==============================] - 0s 6ms/step - loss: 0.1934 - accuracy: 0.9583 - val_loss: 0.2083 - val_accuracy: 0.9667\n",
            "Epoch 59/100\n",
            "24/24 [==============================] - 0s 10ms/step - loss: 0.1902 - accuracy: 0.9583 - val_loss: 0.2056 - val_accuracy: 0.9667\n",
            "Epoch 60/100\n",
            "24/24 [==============================] - 0s 7ms/step - loss: 0.1868 - accuracy: 0.9500 - val_loss: 0.1978 - val_accuracy: 0.9667\n",
            "Epoch 61/100\n",
            "24/24 [==============================] - 0s 5ms/step - loss: 0.1809 - accuracy: 0.9583 - val_loss: 0.1965 - val_accuracy: 0.9667\n",
            "Epoch 62/100\n",
            "24/24 [==============================] - 0s 4ms/step - loss: 0.1790 - accuracy: 0.9500 - val_loss: 0.1907 - val_accuracy: 0.9667\n",
            "Epoch 63/100\n",
            "24/24 [==============================] - 0s 5ms/step - loss: 0.1713 - accuracy: 0.9583 - val_loss: 0.1862 - val_accuracy: 0.9667\n",
            "Epoch 64/100\n",
            "24/24 [==============================] - 0s 7ms/step - loss: 0.1689 - accuracy: 0.9667 - val_loss: 0.1823 - val_accuracy: 0.9667\n",
            "Epoch 65/100\n",
            "24/24 [==============================] - 0s 6ms/step - loss: 0.1664 - accuracy: 0.9500 - val_loss: 0.1730 - val_accuracy: 0.9667\n",
            "Epoch 66/100\n",
            "24/24 [==============================] - 0s 7ms/step - loss: 0.1590 - accuracy: 0.9667 - val_loss: 0.1806 - val_accuracy: 0.9667\n",
            "Epoch 67/100\n",
            "24/24 [==============================] - 0s 6ms/step - loss: 0.1575 - accuracy: 0.9667 - val_loss: 0.1670 - val_accuracy: 0.9667\n",
            "Epoch 68/100\n",
            "24/24 [==============================] - 0s 6ms/step - loss: 0.1543 - accuracy: 0.9583 - val_loss: 0.1651 - val_accuracy: 0.9667\n",
            "Epoch 69/100\n",
            "24/24 [==============================] - 0s 5ms/step - loss: 0.1499 - accuracy: 0.9750 - val_loss: 0.1728 - val_accuracy: 0.9667\n",
            "Epoch 70/100\n",
            "24/24 [==============================] - 0s 6ms/step - loss: 0.1490 - accuracy: 0.9583 - val_loss: 0.1618 - val_accuracy: 0.9667\n",
            "Epoch 71/100\n",
            "24/24 [==============================] - 0s 5ms/step - loss: 0.1466 - accuracy: 0.9583 - val_loss: 0.1565 - val_accuracy: 0.9667\n",
            "Epoch 72/100\n",
            "24/24 [==============================] - 0s 9ms/step - loss: 0.1424 - accuracy: 0.9667 - val_loss: 0.1527 - val_accuracy: 0.9667\n",
            "Epoch 73/100\n",
            "24/24 [==============================] - 0s 9ms/step - loss: 0.1435 - accuracy: 0.9667 - val_loss: 0.1613 - val_accuracy: 0.9667\n",
            "Epoch 74/100\n",
            "24/24 [==============================] - 0s 8ms/step - loss: 0.1404 - accuracy: 0.9667 - val_loss: 0.1508 - val_accuracy: 0.9667\n",
            "Epoch 75/100\n",
            "24/24 [==============================] - 0s 6ms/step - loss: 0.1361 - accuracy: 0.9750 - val_loss: 0.1481 - val_accuracy: 0.9667\n",
            "Epoch 76/100\n",
            "24/24 [==============================] - 0s 6ms/step - loss: 0.1338 - accuracy: 0.9750 - val_loss: 0.1461 - val_accuracy: 0.9667\n",
            "Epoch 77/100\n",
            "24/24 [==============================] - 0s 5ms/step - loss: 0.1315 - accuracy: 0.9750 - val_loss: 0.1390 - val_accuracy: 0.9667\n",
            "Epoch 78/100\n",
            "24/24 [==============================] - 0s 8ms/step - loss: 0.1296 - accuracy: 0.9667 - val_loss: 0.1381 - val_accuracy: 0.9667\n",
            "Epoch 79/100\n",
            "24/24 [==============================] - 0s 6ms/step - loss: 0.1309 - accuracy: 0.9583 - val_loss: 0.1359 - val_accuracy: 0.9667\n",
            "Epoch 80/100\n",
            "24/24 [==============================] - 0s 5ms/step - loss: 0.1264 - accuracy: 0.9667 - val_loss: 0.1295 - val_accuracy: 1.0000\n",
            "Epoch 81/100\n",
            "24/24 [==============================] - 0s 6ms/step - loss: 0.1239 - accuracy: 0.9500 - val_loss: 0.1460 - val_accuracy: 0.9667\n",
            "Epoch 82/100\n",
            "24/24 [==============================] - 0s 5ms/step - loss: 0.1247 - accuracy: 0.9667 - val_loss: 0.1259 - val_accuracy: 1.0000\n",
            "Epoch 83/100\n",
            "24/24 [==============================] - 0s 7ms/step - loss: 0.1239 - accuracy: 0.9583 - val_loss: 0.1319 - val_accuracy: 0.9667\n",
            "Epoch 84/100\n",
            "24/24 [==============================] - 0s 14ms/step - loss: 0.1170 - accuracy: 0.9667 - val_loss: 0.1219 - val_accuracy: 1.0000\n",
            "Epoch 85/100\n",
            "24/24 [==============================] - 0s 6ms/step - loss: 0.1189 - accuracy: 0.9667 - val_loss: 0.1306 - val_accuracy: 0.9667\n",
            "Epoch 86/100\n",
            "24/24 [==============================] - 0s 7ms/step - loss: 0.1184 - accuracy: 0.9667 - val_loss: 0.1204 - val_accuracy: 1.0000\n",
            "Epoch 87/100\n",
            "24/24 [==============================] - 0s 5ms/step - loss: 0.1193 - accuracy: 0.9667 - val_loss: 0.1290 - val_accuracy: 0.9667\n",
            "Epoch 88/100\n",
            "24/24 [==============================] - 0s 4ms/step - loss: 0.1166 - accuracy: 0.9667 - val_loss: 0.1302 - val_accuracy: 0.9667\n",
            "Epoch 89/100\n",
            "24/24 [==============================] - 0s 3ms/step - loss: 0.1156 - accuracy: 0.9750 - val_loss: 0.1249 - val_accuracy: 0.9667\n",
            "Epoch 90/100\n",
            "24/24 [==============================] - 0s 3ms/step - loss: 0.1105 - accuracy: 0.9667 - val_loss: 0.1216 - val_accuracy: 0.9667\n",
            "Epoch 91/100\n",
            "24/24 [==============================] - 0s 4ms/step - loss: 0.1114 - accuracy: 0.9667 - val_loss: 0.1207 - val_accuracy: 0.9667\n",
            "Epoch 92/100\n",
            "24/24 [==============================] - 0s 3ms/step - loss: 0.1093 - accuracy: 0.9667 - val_loss: 0.1139 - val_accuracy: 0.9667\n",
            "Epoch 93/100\n",
            "24/24 [==============================] - 0s 4ms/step - loss: 0.1083 - accuracy: 0.9667 - val_loss: 0.1175 - val_accuracy: 0.9667\n",
            "Epoch 94/100\n",
            "24/24 [==============================] - 0s 4ms/step - loss: 0.1052 - accuracy: 0.9750 - val_loss: 0.1101 - val_accuracy: 1.0000\n",
            "Epoch 95/100\n",
            "24/24 [==============================] - 0s 3ms/step - loss: 0.1093 - accuracy: 0.9667 - val_loss: 0.1169 - val_accuracy: 0.9667\n",
            "Epoch 96/100\n",
            "24/24 [==============================] - 0s 4ms/step - loss: 0.1043 - accuracy: 0.9667 - val_loss: 0.1110 - val_accuracy: 0.9667\n",
            "Epoch 97/100\n",
            "24/24 [==============================] - 0s 3ms/step - loss: 0.1041 - accuracy: 0.9750 - val_loss: 0.1111 - val_accuracy: 0.9667\n",
            "Epoch 98/100\n",
            "24/24 [==============================] - 0s 4ms/step - loss: 0.1049 - accuracy: 0.9667 - val_loss: 0.1104 - val_accuracy: 0.9667\n",
            "Epoch 99/100\n",
            "24/24 [==============================] - 0s 3ms/step - loss: 0.1037 - accuracy: 0.9750 - val_loss: 0.1066 - val_accuracy: 0.9667\n",
            "Epoch 100/100\n",
            "24/24 [==============================] - 0s 3ms/step - loss: 0.1007 - accuracy: 0.9750 - val_loss: 0.1095 - val_accuracy: 0.9667\n",
            "1/1 [==============================] - 0s 137ms/step - loss: 0.1095 - accuracy: 0.9667\n",
            "Loss: 0.10950513184070587, Accuracy: 0.9666666388511658\n"
          ]
        }
      ],
      "source": [
        "import numpy as np\n",
        "from sklearn.datasets import load_iris\n",
        "from sklearn.model_selection import train_test_split\n",
        "from sklearn.preprocessing import OneHotEncoder\n",
        "from keras.models import Sequential\n",
        "from keras.layers import Dense\n",
        "\n",
        "# Load the Iris dataset\n",
        "iris_data = load_iris()\n",
        "X = iris_data.data\n",
        "y = iris_data.target.reshape(-1, 1)\n",
        "\n",
        "# One-hot encode the target variable\n",
        "encoder = OneHotEncoder(sparse=False)\n",
        "y = encoder.fit_transform(y)\n",
        "\n",
        "# Split the dataset into training and test sets\n",
        "X_train, X_test, y_train, y_test = train_test_split(X, y, test_size=0.2, random_state=42)\n",
        "\n",
        "# Create the neural network\n",
        "model = Sequential()\n",
        "model.add(Dense(10, input_dim=4, activation='relu'))  # 1st hidden layer with 10 neurons, input dimension of 4 (features)\n",
        "model.add(Dense(5, activation='relu'))  # 2nd hidden layer with 5 neurons\n",
        "model.add(Dense(3, activation='softmax'))  # Output layer with 3 neurons (output classes)\n",
        "\n",
        "# Compile the model\n",
        "model.compile(loss='categorical_crossentropy', optimizer='adam', metrics=['accuracy'])\n",
        "\n",
        "# Train the model\n",
        "model.fit(X_train, y_train, epochs=100, batch_size=5, validation_data=(X_test, y_test))\n",
        "\n",
        "# Evaluate the model\n",
        "loss, accuracy = model.evaluate(X_test, y_test)\n",
        "print(f'Loss: {loss}, Accuracy: {accuracy}')\n"
      ]
    },
    {
      "cell_type": "code",
      "source": [],
      "metadata": {
        "id": "AKpsTzys5vel"
      },
      "execution_count": null,
      "outputs": []
    },
    {
      "cell_type": "markdown",
      "source": [
        "# Image Dataset"
      ],
      "metadata": {
        "id": "tcqHPantRxDz"
      }
    },
    {
      "cell_type": "markdown",
      "source": [
        "##Minst"
      ],
      "metadata": {
        "id": "sDLm0tNUTCMn"
      }
    },
    {
      "cell_type": "code",
      "source": [
        "import matplotlib.pyplot as plt\n",
        "import numpy as np\n",
        "from keras.datasets import mnist\n",
        "from keras.models import Sequential\n",
        "from keras.layers import Dense, Flatten\n",
        "from keras.utils import to_categorical"
      ],
      "metadata": {
        "id": "cw68KcbLTQIa"
      },
      "execution_count": null,
      "outputs": []
    },
    {
      "cell_type": "code",
      "source": [
        "# Load the MNIST dataset\n",
        "(X_train, y_train), (X_test, y_test) = mnist.load_data()\n",
        "\n",
        "# Preprocess the data\n",
        "X_train = X_train.reshape((X_train.shape[0], 28 * 28)).astype('float32') / 255\n",
        "X_test = X_test.reshape((X_test.shape[0], 28 * 28)).astype('float32') / 255\n",
        "y_train = to_categorical(y_train)\n",
        "y_test = to_categorical(y_test)\n"
      ],
      "metadata": {
        "id": "JW2L1nP_TQF0"
      },
      "execution_count": null,
      "outputs": []
    },
    {
      "cell_type": "code",
      "source": [
        "# Visualize a sample image for each label\n",
        "num_classes = 10\n",
        "samples_per_class = 1\n",
        "plt.figure(figsize=(10, 5))\n",
        "for y in range(num_classes):\n",
        "    idxs = np.flatnonzero(np.argmax(y_train, axis=1) == y)\n",
        "    idxs = np.random.choice(idxs, samples_per_class, replace=False)\n",
        "    for i, idx in enumerate(idxs):\n",
        "        plt_idx = i * num_classes + y + 1\n",
        "        plt.subplot(samples_per_class, num_classes, plt_idx)\n",
        "        plt.imshow(X_train[idx].reshape(28, 28), cmap='gray')\n",
        "        plt.axis('off')\n",
        "        if i == 0:\n",
        "            plt.title(str(y))\n",
        "plt.show()"
      ],
      "metadata": {
        "colab": {
          "base_uri": "https://localhost:8080/",
          "height": 125
        },
        "id": "hMiAxgpUThFe",
        "outputId": "aadaf000-3b7e-4a37-d38e-3d835ec27b6a"
      },
      "execution_count": null,
      "outputs": [
        {
          "output_type": "display_data",
          "data": {
            "text/plain": [
              "<Figure size 1000x500 with 10 Axes>"
            ],
            "image/png": "[encoded data removed]"
          },
          "metadata": {}
        }
      ]
    },
    {
      "cell_type": "code",
      "source": [
        "t# Create the neural network\n",
        "model = Sequential()\n",
        "model.add(Dense(512, activation='relu', input_shape=(28 * 28,)))\n",
        "model.add(Dense(256, activation='relu'))\n",
        "model.add(Dense(10, activation='softmax'))\n",
        "\n",
        "# Compile the model\n",
        "model.compile(optimizer='adam', loss='categorical_crossentropy', metrics=['accuracy'])\n",
        "\n",
        "# Train the model\n",
        "model.fit(X_train, y_train, epochs=5, batch_size=128, validation_data=(X_test, y_test))\n",
        "\n",
        "# Evaluate the model\n",
        "loss, accuracy = model.evaluate(X_test, y_test)\n",
        "print(f'Loss: {loss}, Accuracy: {accuracy}')\n"
      ],
      "metadata": {
        "colab": {
          "base_uri": "https://localhost:8080/"
        },
        "id": "1F0XoYaKTDDl",
        "outputId": "9887dc5c-a6bc-4b92-8ec2-306016ab3666"
      },
      "execution_count": null,
      "outputs": [
        {
          "output_type": "stream",
          "name": "stdout",
          "text": [
            "Epoch 1/5\n",
            "469/469 [==============================] - 10s 20ms/step - loss: 0.2273 - accuracy: 0.9333 - val_loss: 0.1079 - val_accuracy: 0.9652\n",
            "Epoch 2/5\n",
            "469/469 [==============================] - 8s 18ms/step - loss: 0.0834 - accuracy: 0.9744 - val_loss: 0.0802 - val_accuracy: 0.9738\n",
            "Epoch 3/5\n",
            "469/469 [==============================] - 8s 16ms/step - loss: 0.0531 - accuracy: 0.9831 - val_loss: 0.0835 - val_accuracy: 0.9745\n",
            "Epoch 4/5\n",
            "469/469 [==============================] - 8s 16ms/step - loss: 0.0380 - accuracy: 0.9879 - val_loss: 0.0640 - val_accuracy: 0.9792\n",
            "Epoch 5/5\n",
            "469/469 [==============================] - 7s 15ms/step - loss: 0.0262 - accuracy: 0.9915 - val_loss: 0.0609 - val_accuracy: 0.9815\n",
            "313/313 [==============================] - 1s 4ms/step - loss: 0.0609 - accuracy: 0.9815\n",
            "Loss: 0.060877300798892975, Accuracy: 0.9815000295639038\n"
          ]
        }
      ]
    }
  ]
}